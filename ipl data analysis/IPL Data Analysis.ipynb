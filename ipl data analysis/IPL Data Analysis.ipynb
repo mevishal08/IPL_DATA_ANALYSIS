{
 "cells": [
  {
   "cell_type": "markdown",
   "id": "607a287a",
   "metadata": {},
   "source": [
    "# IPL DATA ANALYSIS"
   ]
  },
  {
   "cell_type": "code",
   "execution_count": 1,
   "id": "84ba47fe",
   "metadata": {},
   "outputs": [],
   "source": [
    "import pandas as pd \n",
    "import seaborn as sns \n",
    "import matplotlib.pyplot as plt"
   ]
  },
  {
   "cell_type": "code",
   "execution_count": 2,
   "id": "520db1d9",
   "metadata": {},
   "outputs": [],
   "source": [
    "ipl = pd.read_csv(\"C:/Users/VISHAL JHA/OneDrive/Desktop/ipl_dataset.csv\")"
   ]
  },
  {
   "cell_type": "code",
   "execution_count": 3,
   "id": "6e492737",
   "metadata": {},
   "outputs": [
    {
     "data": {
      "text/html": [
       "<div>\n",
       "<style scoped>\n",
       "    .dataframe tbody tr th:only-of-type {\n",
       "        vertical-align: middle;\n",
       "    }\n",
       "\n",
       "    .dataframe tbody tr th {\n",
       "        vertical-align: top;\n",
       "    }\n",
       "\n",
       "    .dataframe thead th {\n",
       "        text-align: right;\n",
       "    }\n",
       "</style>\n",
       "<table border=\"1\" class=\"dataframe\">\n",
       "  <thead>\n",
       "    <tr style=\"text-align: right;\">\n",
       "      <th></th>\n",
       "      <th>id</th>\n",
       "      <th>city</th>\n",
       "      <th>date</th>\n",
       "      <th>player_of_match</th>\n",
       "      <th>venue</th>\n",
       "      <th>neutral_venue</th>\n",
       "      <th>team1</th>\n",
       "      <th>team2</th>\n",
       "      <th>toss_winner</th>\n",
       "      <th>toss_decision</th>\n",
       "      <th>winner</th>\n",
       "      <th>result</th>\n",
       "      <th>result_margin</th>\n",
       "      <th>eliminator</th>\n",
       "      <th>method</th>\n",
       "      <th>umpire1</th>\n",
       "      <th>umpire2</th>\n",
       "    </tr>\n",
       "  </thead>\n",
       "  <tbody>\n",
       "    <tr>\n",
       "      <th>0</th>\n",
       "      <td>335982</td>\n",
       "      <td>Bangalore</td>\n",
       "      <td>18-04-2008</td>\n",
       "      <td>BB McCullum</td>\n",
       "      <td>M Chinnaswamy Stadium</td>\n",
       "      <td>0</td>\n",
       "      <td>Royal Challengers Bangalore</td>\n",
       "      <td>Kolkata Knight Riders</td>\n",
       "      <td>Royal Challengers Bangalore</td>\n",
       "      <td>field</td>\n",
       "      <td>Kolkata Knight Riders</td>\n",
       "      <td>runs</td>\n",
       "      <td>140.0</td>\n",
       "      <td>N</td>\n",
       "      <td>NaN</td>\n",
       "      <td>Asad Rauf</td>\n",
       "      <td>RE Koertzen</td>\n",
       "    </tr>\n",
       "    <tr>\n",
       "      <th>1</th>\n",
       "      <td>335983</td>\n",
       "      <td>Chandigarh</td>\n",
       "      <td>19-04-2008</td>\n",
       "      <td>MEK Hussey</td>\n",
       "      <td>Punjab Cricket Association Stadium, Mohali</td>\n",
       "      <td>0</td>\n",
       "      <td>Kings XI Punjab</td>\n",
       "      <td>Chennai Super Kings</td>\n",
       "      <td>Chennai Super Kings</td>\n",
       "      <td>bat</td>\n",
       "      <td>Chennai Super Kings</td>\n",
       "      <td>runs</td>\n",
       "      <td>33.0</td>\n",
       "      <td>N</td>\n",
       "      <td>NaN</td>\n",
       "      <td>MR Benson</td>\n",
       "      <td>SL Shastri</td>\n",
       "    </tr>\n",
       "    <tr>\n",
       "      <th>2</th>\n",
       "      <td>335984</td>\n",
       "      <td>Delhi</td>\n",
       "      <td>19-04-2008</td>\n",
       "      <td>MF Maharoof</td>\n",
       "      <td>Feroz Shah Kotla</td>\n",
       "      <td>0</td>\n",
       "      <td>Delhi Daredevils</td>\n",
       "      <td>Rajasthan Royals</td>\n",
       "      <td>Rajasthan Royals</td>\n",
       "      <td>bat</td>\n",
       "      <td>Delhi Daredevils</td>\n",
       "      <td>wickets</td>\n",
       "      <td>9.0</td>\n",
       "      <td>N</td>\n",
       "      <td>NaN</td>\n",
       "      <td>Aleem Dar</td>\n",
       "      <td>GA Pratapkumar</td>\n",
       "    </tr>\n",
       "    <tr>\n",
       "      <th>3</th>\n",
       "      <td>335985</td>\n",
       "      <td>Mumbai</td>\n",
       "      <td>20-04-2008</td>\n",
       "      <td>MV Boucher</td>\n",
       "      <td>Wankhede Stadium</td>\n",
       "      <td>0</td>\n",
       "      <td>Mumbai Indians</td>\n",
       "      <td>Royal Challengers Bangalore</td>\n",
       "      <td>Mumbai Indians</td>\n",
       "      <td>bat</td>\n",
       "      <td>Royal Challengers Bangalore</td>\n",
       "      <td>wickets</td>\n",
       "      <td>5.0</td>\n",
       "      <td>N</td>\n",
       "      <td>NaN</td>\n",
       "      <td>SJ Davis</td>\n",
       "      <td>DJ Harper</td>\n",
       "    </tr>\n",
       "    <tr>\n",
       "      <th>4</th>\n",
       "      <td>335986</td>\n",
       "      <td>Kolkata</td>\n",
       "      <td>20-04-2008</td>\n",
       "      <td>DJ Hussey</td>\n",
       "      <td>Eden Gardens</td>\n",
       "      <td>0</td>\n",
       "      <td>Kolkata Knight Riders</td>\n",
       "      <td>Deccan Chargers</td>\n",
       "      <td>Deccan Chargers</td>\n",
       "      <td>bat</td>\n",
       "      <td>Kolkata Knight Riders</td>\n",
       "      <td>wickets</td>\n",
       "      <td>5.0</td>\n",
       "      <td>N</td>\n",
       "      <td>NaN</td>\n",
       "      <td>BF Bowden</td>\n",
       "      <td>K Hariharan</td>\n",
       "    </tr>\n",
       "  </tbody>\n",
       "</table>\n",
       "</div>"
      ],
      "text/plain": [
       "       id        city        date player_of_match  \\\n",
       "0  335982   Bangalore  18-04-2008     BB McCullum   \n",
       "1  335983  Chandigarh  19-04-2008      MEK Hussey   \n",
       "2  335984       Delhi  19-04-2008     MF Maharoof   \n",
       "3  335985      Mumbai  20-04-2008      MV Boucher   \n",
       "4  335986     Kolkata  20-04-2008       DJ Hussey   \n",
       "\n",
       "                                        venue  neutral_venue  \\\n",
       "0                       M Chinnaswamy Stadium              0   \n",
       "1  Punjab Cricket Association Stadium, Mohali              0   \n",
       "2                            Feroz Shah Kotla              0   \n",
       "3                            Wankhede Stadium              0   \n",
       "4                                Eden Gardens              0   \n",
       "\n",
       "                         team1                        team2  \\\n",
       "0  Royal Challengers Bangalore        Kolkata Knight Riders   \n",
       "1              Kings XI Punjab          Chennai Super Kings   \n",
       "2             Delhi Daredevils             Rajasthan Royals   \n",
       "3               Mumbai Indians  Royal Challengers Bangalore   \n",
       "4        Kolkata Knight Riders              Deccan Chargers   \n",
       "\n",
       "                   toss_winner toss_decision                       winner  \\\n",
       "0  Royal Challengers Bangalore         field        Kolkata Knight Riders   \n",
       "1          Chennai Super Kings           bat          Chennai Super Kings   \n",
       "2             Rajasthan Royals           bat             Delhi Daredevils   \n",
       "3               Mumbai Indians           bat  Royal Challengers Bangalore   \n",
       "4              Deccan Chargers           bat        Kolkata Knight Riders   \n",
       "\n",
       "    result  result_margin eliminator method    umpire1         umpire2  \n",
       "0     runs          140.0          N    NaN  Asad Rauf     RE Koertzen  \n",
       "1     runs           33.0          N    NaN  MR Benson      SL Shastri  \n",
       "2  wickets            9.0          N    NaN  Aleem Dar  GA Pratapkumar  \n",
       "3  wickets            5.0          N    NaN   SJ Davis       DJ Harper  \n",
       "4  wickets            5.0          N    NaN  BF Bowden     K Hariharan  "
      ]
     },
     "execution_count": 3,
     "metadata": {},
     "output_type": "execute_result"
    }
   ],
   "source": [
    "ipl.head()"
   ]
  },
  {
   "cell_type": "code",
   "execution_count": 4,
   "id": "dc849aee",
   "metadata": {},
   "outputs": [
    {
     "data": {
      "text/plain": [
       "(816, 17)"
      ]
     },
     "execution_count": 4,
     "metadata": {},
     "output_type": "execute_result"
    }
   ],
   "source": [
    "ipl.shape"
   ]
  },
  {
   "cell_type": "code",
   "execution_count": 5,
   "id": "3267285d",
   "metadata": {},
   "outputs": [
    {
     "data": {
      "text/html": [
       "<div>\n",
       "<style scoped>\n",
       "    .dataframe tbody tr th:only-of-type {\n",
       "        vertical-align: middle;\n",
       "    }\n",
       "\n",
       "    .dataframe tbody tr th {\n",
       "        vertical-align: top;\n",
       "    }\n",
       "\n",
       "    .dataframe thead th {\n",
       "        text-align: right;\n",
       "    }\n",
       "</style>\n",
       "<table border=\"1\" class=\"dataframe\">\n",
       "  <thead>\n",
       "    <tr style=\"text-align: right;\">\n",
       "      <th></th>\n",
       "      <th>id</th>\n",
       "      <th>inning</th>\n",
       "      <th>over</th>\n",
       "      <th>ball</th>\n",
       "      <th>batsman</th>\n",
       "      <th>non_striker</th>\n",
       "      <th>bowler</th>\n",
       "      <th>batsman_runs</th>\n",
       "      <th>extra_runs</th>\n",
       "      <th>total_runs</th>\n",
       "      <th>non_boundary</th>\n",
       "      <th>is_wicket</th>\n",
       "      <th>dismissal_kind</th>\n",
       "      <th>player_dismissed</th>\n",
       "      <th>fielder</th>\n",
       "      <th>extras_type</th>\n",
       "      <th>batting_team</th>\n",
       "      <th>bowling_team</th>\n",
       "    </tr>\n",
       "  </thead>\n",
       "  <tbody>\n",
       "    <tr>\n",
       "      <th>0</th>\n",
       "      <td>335982</td>\n",
       "      <td>1</td>\n",
       "      <td>6</td>\n",
       "      <td>5</td>\n",
       "      <td>RT Ponting</td>\n",
       "      <td>BB McCullum</td>\n",
       "      <td>AA Noffke</td>\n",
       "      <td>1</td>\n",
       "      <td>0</td>\n",
       "      <td>1</td>\n",
       "      <td>0</td>\n",
       "      <td>0</td>\n",
       "      <td>NaN</td>\n",
       "      <td>NaN</td>\n",
       "      <td>NaN</td>\n",
       "      <td>NaN</td>\n",
       "      <td>Kolkata Knight Riders</td>\n",
       "      <td>Royal Challengers Bangalore</td>\n",
       "    </tr>\n",
       "    <tr>\n",
       "      <th>1</th>\n",
       "      <td>335982</td>\n",
       "      <td>1</td>\n",
       "      <td>6</td>\n",
       "      <td>6</td>\n",
       "      <td>BB McCullum</td>\n",
       "      <td>RT Ponting</td>\n",
       "      <td>AA Noffke</td>\n",
       "      <td>1</td>\n",
       "      <td>0</td>\n",
       "      <td>1</td>\n",
       "      <td>0</td>\n",
       "      <td>0</td>\n",
       "      <td>NaN</td>\n",
       "      <td>NaN</td>\n",
       "      <td>NaN</td>\n",
       "      <td>NaN</td>\n",
       "      <td>Kolkata Knight Riders</td>\n",
       "      <td>Royal Challengers Bangalore</td>\n",
       "    </tr>\n",
       "  </tbody>\n",
       "</table>\n",
       "</div>"
      ],
      "text/plain": [
       "       id  inning  over  ball      batsman  non_striker     bowler  \\\n",
       "0  335982       1     6     5   RT Ponting  BB McCullum  AA Noffke   \n",
       "1  335982       1     6     6  BB McCullum   RT Ponting  AA Noffke   \n",
       "\n",
       "   batsman_runs  extra_runs  total_runs  non_boundary  is_wicket  \\\n",
       "0             1           0           1             0          0   \n",
       "1             1           0           1             0          0   \n",
       "\n",
       "  dismissal_kind player_dismissed fielder extras_type           batting_team  \\\n",
       "0            NaN              NaN     NaN         NaN  Kolkata Knight Riders   \n",
       "1            NaN              NaN     NaN         NaN  Kolkata Knight Riders   \n",
       "\n",
       "                  bowling_team  \n",
       "0  Royal Challengers Bangalore  \n",
       "1  Royal Challengers Bangalore  "
      ]
     },
     "execution_count": 5,
     "metadata": {},
     "output_type": "execute_result"
    }
   ],
   "source": [
    "ipl2 = pd.read_csv(\"C:/Users/VISHAL JHA/OneDrive/Desktop/ball_dataset.csv\")\n",
    "ipl2.head(2)"
   ]
  },
  {
   "cell_type": "code",
   "execution_count": 6,
   "id": "77f37619",
   "metadata": {},
   "outputs": [
    {
     "data": {
      "text/plain": [
       "Index(['id', 'city', 'date', 'player_of_match', 'venue', 'neutral_venue',\n",
       "       'team1', 'team2', 'toss_winner', 'toss_decision', 'winner', 'result',\n",
       "       'result_margin', 'eliminator', 'method', 'umpire1', 'umpire2'],\n",
       "      dtype='object')"
      ]
     },
     "execution_count": 6,
     "metadata": {},
     "output_type": "execute_result"
    }
   ],
   "source": [
    "ipl.columns"
   ]
  },
  {
   "cell_type": "markdown",
   "id": "28c88cd6",
   "metadata": {},
   "source": [
    "# top 10 players with most man of the match awards"
   ]
  },
  {
   "cell_type": "code",
   "execution_count": 7,
   "id": "60c9af03",
   "metadata": {},
   "outputs": [
    {
     "data": {
      "text/plain": [
       "AB de Villiers    23\n",
       "CH Gayle          22\n",
       "RG Sharma         18\n",
       "DA Warner         17\n",
       "MS Dhoni          17\n",
       "SR Watson         16\n",
       "YK Pathan         16\n",
       "SK Raina          14\n",
       "V Kohli           13\n",
       "G Gambhir         13\n",
       "Name: player_of_match, dtype: int64"
      ]
     },
     "execution_count": 7,
     "metadata": {},
     "output_type": "execute_result"
    }
   ],
   "source": [
    "ipl['player_of_match'].value_counts()[0:10]"
   ]
  },
  {
   "cell_type": "code",
   "execution_count": 8,
   "id": "a3e5e372",
   "metadata": {},
   "outputs": [
    {
     "data": {
      "image/png": "[encoded data removed]",
      "text/plain": [
       "<Figure size 432x288 with 1 Axes>"
      ]
     },
     "metadata": {
      "needs_background": "light"
     },
     "output_type": "display_data"
    }
   ],
   "source": [
    "ax = plt.axes()\n",
    "ax.set(facecolor = \"grey\")\n",
    "ipl['player_of_match'].value_counts()[0:10].plot(kind='bar')\n",
    "plt.xlabel(\"players\")\n",
    "plt.ylabel(\"count\")\n",
    "plt.title(\"Highest MOM Award Winner\" ,fontsize=15,fontweight =\"bold\")\n",
    "plt.show()"
   ]
  },
  {
   "cell_type": "code",
   "execution_count": 9,
   "id": "77229e81",
   "metadata": {},
   "outputs": [
    {
     "data": {
      "text/plain": [
       "wickets    435\n",
       "runs       364\n",
       "tie         13\n",
       "Name: result, dtype: int64"
      ]
     },
     "execution_count": 9,
     "metadata": {},
     "output_type": "execute_result"
    }
   ],
   "source": [
    "ipl[\"result\"].value_counts()"
   ]
  },
  {
   "cell_type": "markdown",
   "id": "e1fc8ca9",
   "metadata": {},
   "source": [
    "# No of Toss winners inipl by each Team"
   ]
  },
  {
   "cell_type": "code",
   "execution_count": 10,
   "id": "ad279ccc",
   "metadata": {},
   "outputs": [
    {
     "data": {
      "text/plain": [
       "Mumbai Indians                 106\n",
       "Kolkata Knight Riders           98\n",
       "Chennai Super Kings             97\n",
       "Royal Challengers Bangalore     87\n",
       "Rajasthan Royals                87\n",
       "Kings XI Punjab                 85\n",
       "Delhi Daredevils                80\n",
       "Sunrisers Hyderabad             57\n",
       "Deccan Chargers                 43\n",
       "Pune Warriors                   20\n",
       "Delhi Capitals                  20\n",
       "Gujarat Lions                   15\n",
       "Kochi Tuskers Kerala             8\n",
       "Rising Pune Supergiants          7\n",
       "Rising Pune Supergiant           6\n",
       "Name: toss_winner, dtype: int64"
      ]
     },
     "execution_count": 10,
     "metadata": {},
     "output_type": "execute_result"
    }
   ],
   "source": [
    "ipl[\"toss_winner\"].value_counts()"
   ]
  },
  {
   "cell_type": "code",
   "execution_count": 11,
   "id": "945256d8",
   "metadata": {},
   "outputs": [
    {
     "data": {
      "image/png": "[encoded data removed]",
      "text/plain": [
       "<Figure size 576x360 with 1 Axes>"
      ]
     },
     "metadata": {
      "needs_background": "light"
     },
     "output_type": "display_data"
    }
   ],
   "source": [
    "plt.figure(figsize=(8,5))\n",
    "plt.bar(list(ipl['toss_winner'].value_counts().keys()),list(ipl['toss_winner'].value_counts()))\n",
    "plt.xticks(rotation=90)\n",
    "plt.xlabel(\"Teams\")\n",
    "plt.ylabel(\"no of toss wins\")\n",
    "plt.title(\"No of Toss wins by each Team\")\n",
    "plt.show()"
   ]
  },
  {
   "cell_type": "code",
   "execution_count": 12,
   "id": "a6757f5f",
   "metadata": {},
   "outputs": [
    {
     "data": {
      "text/plain": [
       "id                   0\n",
       "city                13\n",
       "date                 0\n",
       "player_of_match      4\n",
       "venue                0\n",
       "neutral_venue        0\n",
       "team1                0\n",
       "team2                0\n",
       "toss_winner          0\n",
       "toss_decision        0\n",
       "winner               4\n",
       "result               4\n",
       "result_margin       17\n",
       "eliminator           4\n",
       "method             797\n",
       "umpire1              0\n",
       "umpire2              0\n",
       "dtype: int64"
      ]
     },
     "execution_count": 12,
     "metadata": {},
     "output_type": "execute_result"
    }
   ],
   "source": [
    "ipl.isnull().sum()"
   ]
  },
  {
   "cell_type": "code",
   "execution_count": 13,
   "id": "7033154e",
   "metadata": {},
   "outputs": [
    {
     "name": "stdout",
     "output_type": "stream",
     "text": [
      "Match playesd so far: 816\n",
      "\n",
      " cities played at: ['Bangalore' 'Chandigarh' 'Delhi' 'Mumbai' 'Kolkata' 'Jaipur' 'Hyderabad'\n",
      " 'Chennai' 'Cape Town' 'Port Elizabeth' 'Durban' 'Centurion' 'East London'\n",
      " 'Johannesburg' 'Kimberley' 'Bloemfontein' 'Ahmedabad' 'Cuttack' 'Nagpur'\n",
      " 'Dharamsala' 'Kochi' 'Indore' 'Visakhapatnam' 'Pune' 'Raipur' 'Ranchi'\n",
      " 'Abu Dhabi' nan 'Rajkot' 'Kanpur' 'Bengaluru' 'Dubai' 'Sharjah']\n",
      "\n",
      " Teams parcipated : ['Royal Challengers Bangalore' 'Kings XI Punjab' 'Delhi Daredevils'\n",
      " 'Mumbai Indians' 'Kolkata Knight Riders' 'Rajasthan Royals'\n",
      " 'Deccan Chargers' 'Chennai Super Kings' 'Kochi Tuskers Kerala'\n",
      " 'Pune Warriors' 'Sunrisers Hyderabad' 'Gujarat Lions'\n",
      " 'Rising Pune Supergiants' 'Rising Pune Supergiant' 'Delhi Capitals']\n"
     ]
    }
   ],
   "source": [
    "print(\"Match playesd so far:\" , ipl.shape[0])\n",
    "print(\"\\n cities played at:\" , ipl[\"city\"].unique())\n",
    "print(\"\\n Teams parcipated :\" , ipl[\"team1\"].unique())"
   ]
  },
  {
   "cell_type": "code",
   "execution_count": 14,
   "id": "e38fc1c0",
   "metadata": {},
   "outputs": [
    {
     "data": {
      "text/plain": [
       "id                   int64\n",
       "city                object\n",
       "date                object\n",
       "player_of_match     object\n",
       "venue               object\n",
       "neutral_venue        int64\n",
       "team1               object\n",
       "team2               object\n",
       "toss_winner         object\n",
       "toss_decision       object\n",
       "winner              object\n",
       "result              object\n",
       "result_margin      float64\n",
       "eliminator          object\n",
       "method              object\n",
       "umpire1             object\n",
       "umpire2             object\n",
       "dtype: object"
      ]
     },
     "execution_count": 14,
     "metadata": {},
     "output_type": "execute_result"
    }
   ],
   "source": [
    "ipl.dtypes"
   ]
  },
  {
   "cell_type": "code",
   "execution_count": 15,
   "id": "6ad6a0b1",
   "metadata": {},
   "outputs": [],
   "source": [
    "ipl['year'] = ipl['date'].apply(lambda x:x[-1::-1][0:4][-1::-1])"
   ]
  },
  {
   "cell_type": "code",
   "execution_count": 16,
   "id": "ca32e7c0",
   "metadata": {},
   "outputs": [
    {
     "data": {
      "text/html": [
       "<div>\n",
       "<style scoped>\n",
       "    .dataframe tbody tr th:only-of-type {\n",
       "        vertical-align: middle;\n",
       "    }\n",
       "\n",
       "    .dataframe tbody tr th {\n",
       "        vertical-align: top;\n",
       "    }\n",
       "\n",
       "    .dataframe thead th {\n",
       "        text-align: right;\n",
       "    }\n",
       "</style>\n",
       "<table border=\"1\" class=\"dataframe\">\n",
       "  <thead>\n",
       "    <tr style=\"text-align: right;\">\n",
       "      <th></th>\n",
       "      <th>id</th>\n",
       "      <th>city</th>\n",
       "      <th>date</th>\n",
       "      <th>player_of_match</th>\n",
       "      <th>venue</th>\n",
       "      <th>neutral_venue</th>\n",
       "      <th>team1</th>\n",
       "      <th>team2</th>\n",
       "      <th>toss_winner</th>\n",
       "      <th>toss_decision</th>\n",
       "      <th>winner</th>\n",
       "      <th>result</th>\n",
       "      <th>result_margin</th>\n",
       "      <th>eliminator</th>\n",
       "      <th>method</th>\n",
       "      <th>umpire1</th>\n",
       "      <th>umpire2</th>\n",
       "      <th>year</th>\n",
       "    </tr>\n",
       "  </thead>\n",
       "  <tbody>\n",
       "    <tr>\n",
       "      <th>0</th>\n",
       "      <td>335982</td>\n",
       "      <td>Bangalore</td>\n",
       "      <td>18-04-2008</td>\n",
       "      <td>BB McCullum</td>\n",
       "      <td>M Chinnaswamy Stadium</td>\n",
       "      <td>0</td>\n",
       "      <td>Royal Challengers Bangalore</td>\n",
       "      <td>Kolkata Knight Riders</td>\n",
       "      <td>Royal Challengers Bangalore</td>\n",
       "      <td>field</td>\n",
       "      <td>Kolkata Knight Riders</td>\n",
       "      <td>runs</td>\n",
       "      <td>140.0</td>\n",
       "      <td>N</td>\n",
       "      <td>NaN</td>\n",
       "      <td>Asad Rauf</td>\n",
       "      <td>RE Koertzen</td>\n",
       "      <td>2008</td>\n",
       "    </tr>\n",
       "    <tr>\n",
       "      <th>1</th>\n",
       "      <td>335983</td>\n",
       "      <td>Chandigarh</td>\n",
       "      <td>19-04-2008</td>\n",
       "      <td>MEK Hussey</td>\n",
       "      <td>Punjab Cricket Association Stadium, Mohali</td>\n",
       "      <td>0</td>\n",
       "      <td>Kings XI Punjab</td>\n",
       "      <td>Chennai Super Kings</td>\n",
       "      <td>Chennai Super Kings</td>\n",
       "      <td>bat</td>\n",
       "      <td>Chennai Super Kings</td>\n",
       "      <td>runs</td>\n",
       "      <td>33.0</td>\n",
       "      <td>N</td>\n",
       "      <td>NaN</td>\n",
       "      <td>MR Benson</td>\n",
       "      <td>SL Shastri</td>\n",
       "      <td>2008</td>\n",
       "    </tr>\n",
       "    <tr>\n",
       "      <th>2</th>\n",
       "      <td>335984</td>\n",
       "      <td>Delhi</td>\n",
       "      <td>19-04-2008</td>\n",
       "      <td>MF Maharoof</td>\n",
       "      <td>Feroz Shah Kotla</td>\n",
       "      <td>0</td>\n",
       "      <td>Delhi Daredevils</td>\n",
       "      <td>Rajasthan Royals</td>\n",
       "      <td>Rajasthan Royals</td>\n",
       "      <td>bat</td>\n",
       "      <td>Delhi Daredevils</td>\n",
       "      <td>wickets</td>\n",
       "      <td>9.0</td>\n",
       "      <td>N</td>\n",
       "      <td>NaN</td>\n",
       "      <td>Aleem Dar</td>\n",
       "      <td>GA Pratapkumar</td>\n",
       "      <td>2008</td>\n",
       "    </tr>\n",
       "    <tr>\n",
       "      <th>3</th>\n",
       "      <td>335985</td>\n",
       "      <td>Mumbai</td>\n",
       "      <td>20-04-2008</td>\n",
       "      <td>MV Boucher</td>\n",
       "      <td>Wankhede Stadium</td>\n",
       "      <td>0</td>\n",
       "      <td>Mumbai Indians</td>\n",
       "      <td>Royal Challengers Bangalore</td>\n",
       "      <td>Mumbai Indians</td>\n",
       "      <td>bat</td>\n",
       "      <td>Royal Challengers Bangalore</td>\n",
       "      <td>wickets</td>\n",
       "      <td>5.0</td>\n",
       "      <td>N</td>\n",
       "      <td>NaN</td>\n",
       "      <td>SJ Davis</td>\n",
       "      <td>DJ Harper</td>\n",
       "      <td>2008</td>\n",
       "    </tr>\n",
       "    <tr>\n",
       "      <th>4</th>\n",
       "      <td>335986</td>\n",
       "      <td>Kolkata</td>\n",
       "      <td>20-04-2008</td>\n",
       "      <td>DJ Hussey</td>\n",
       "      <td>Eden Gardens</td>\n",
       "      <td>0</td>\n",
       "      <td>Kolkata Knight Riders</td>\n",
       "      <td>Deccan Chargers</td>\n",
       "      <td>Deccan Chargers</td>\n",
       "      <td>bat</td>\n",
       "      <td>Kolkata Knight Riders</td>\n",
       "      <td>wickets</td>\n",
       "      <td>5.0</td>\n",
       "      <td>N</td>\n",
       "      <td>NaN</td>\n",
       "      <td>BF Bowden</td>\n",
       "      <td>K Hariharan</td>\n",
       "      <td>2008</td>\n",
       "    </tr>\n",
       "    <tr>\n",
       "      <th>...</th>\n",
       "      <td>...</td>\n",
       "      <td>...</td>\n",
       "      <td>...</td>\n",
       "      <td>...</td>\n",
       "      <td>...</td>\n",
       "      <td>...</td>\n",
       "      <td>...</td>\n",
       "      <td>...</td>\n",
       "      <td>...</td>\n",
       "      <td>...</td>\n",
       "      <td>...</td>\n",
       "      <td>...</td>\n",
       "      <td>...</td>\n",
       "      <td>...</td>\n",
       "      <td>...</td>\n",
       "      <td>...</td>\n",
       "      <td>...</td>\n",
       "      <td>...</td>\n",
       "    </tr>\n",
       "    <tr>\n",
       "      <th>811</th>\n",
       "      <td>1216547</td>\n",
       "      <td>Dubai</td>\n",
       "      <td>28-09-2020</td>\n",
       "      <td>AB de Villiers</td>\n",
       "      <td>Dubai International Cricket Stadium</td>\n",
       "      <td>0</td>\n",
       "      <td>Royal Challengers Bangalore</td>\n",
       "      <td>Mumbai Indians</td>\n",
       "      <td>Mumbai Indians</td>\n",
       "      <td>field</td>\n",
       "      <td>Royal Challengers Bangalore</td>\n",
       "      <td>tie</td>\n",
       "      <td>NaN</td>\n",
       "      <td>Y</td>\n",
       "      <td>NaN</td>\n",
       "      <td>Nitin Menon</td>\n",
       "      <td>PR Reiffel</td>\n",
       "      <td>2020</td>\n",
       "    </tr>\n",
       "    <tr>\n",
       "      <th>812</th>\n",
       "      <td>1237177</td>\n",
       "      <td>Dubai</td>\n",
       "      <td>05-11-2020</td>\n",
       "      <td>JJ Bumrah</td>\n",
       "      <td>Dubai International Cricket Stadium</td>\n",
       "      <td>0</td>\n",
       "      <td>Mumbai Indians</td>\n",
       "      <td>Delhi Capitals</td>\n",
       "      <td>Delhi Capitals</td>\n",
       "      <td>field</td>\n",
       "      <td>Mumbai Indians</td>\n",
       "      <td>runs</td>\n",
       "      <td>57.0</td>\n",
       "      <td>N</td>\n",
       "      <td>NaN</td>\n",
       "      <td>CB Gaffaney</td>\n",
       "      <td>Nitin Menon</td>\n",
       "      <td>2020</td>\n",
       "    </tr>\n",
       "    <tr>\n",
       "      <th>813</th>\n",
       "      <td>1237178</td>\n",
       "      <td>Abu Dhabi</td>\n",
       "      <td>06-11-2020</td>\n",
       "      <td>KS Williamson</td>\n",
       "      <td>Sheikh Zayed Stadium</td>\n",
       "      <td>0</td>\n",
       "      <td>Royal Challengers Bangalore</td>\n",
       "      <td>Sunrisers Hyderabad</td>\n",
       "      <td>Sunrisers Hyderabad</td>\n",
       "      <td>field</td>\n",
       "      <td>Sunrisers Hyderabad</td>\n",
       "      <td>wickets</td>\n",
       "      <td>6.0</td>\n",
       "      <td>N</td>\n",
       "      <td>NaN</td>\n",
       "      <td>PR Reiffel</td>\n",
       "      <td>S Ravi</td>\n",
       "      <td>2020</td>\n",
       "    </tr>\n",
       "    <tr>\n",
       "      <th>814</th>\n",
       "      <td>1237180</td>\n",
       "      <td>Abu Dhabi</td>\n",
       "      <td>08-11-2020</td>\n",
       "      <td>MP Stoinis</td>\n",
       "      <td>Sheikh Zayed Stadium</td>\n",
       "      <td>0</td>\n",
       "      <td>Delhi Capitals</td>\n",
       "      <td>Sunrisers Hyderabad</td>\n",
       "      <td>Delhi Capitals</td>\n",
       "      <td>bat</td>\n",
       "      <td>Delhi Capitals</td>\n",
       "      <td>runs</td>\n",
       "      <td>17.0</td>\n",
       "      <td>N</td>\n",
       "      <td>NaN</td>\n",
       "      <td>PR Reiffel</td>\n",
       "      <td>S Ravi</td>\n",
       "      <td>2020</td>\n",
       "    </tr>\n",
       "    <tr>\n",
       "      <th>815</th>\n",
       "      <td>1237181</td>\n",
       "      <td>Dubai</td>\n",
       "      <td>10-11-2020</td>\n",
       "      <td>TA Boult</td>\n",
       "      <td>Dubai International Cricket Stadium</td>\n",
       "      <td>0</td>\n",
       "      <td>Delhi Capitals</td>\n",
       "      <td>Mumbai Indians</td>\n",
       "      <td>Delhi Capitals</td>\n",
       "      <td>bat</td>\n",
       "      <td>Mumbai Indians</td>\n",
       "      <td>wickets</td>\n",
       "      <td>5.0</td>\n",
       "      <td>N</td>\n",
       "      <td>NaN</td>\n",
       "      <td>CB Gaffaney</td>\n",
       "      <td>Nitin Menon</td>\n",
       "      <td>2020</td>\n",
       "    </tr>\n",
       "  </tbody>\n",
       "</table>\n",
       "<p>816 rows × 18 columns</p>\n",
       "</div>"
      ],
      "text/plain": [
       "          id        city        date player_of_match  \\\n",
       "0     335982   Bangalore  18-04-2008     BB McCullum   \n",
       "1     335983  Chandigarh  19-04-2008      MEK Hussey   \n",
       "2     335984       Delhi  19-04-2008     MF Maharoof   \n",
       "3     335985      Mumbai  20-04-2008      MV Boucher   \n",
       "4     335986     Kolkata  20-04-2008       DJ Hussey   \n",
       "..       ...         ...         ...             ...   \n",
       "811  1216547       Dubai  28-09-2020  AB de Villiers   \n",
       "812  1237177       Dubai  05-11-2020       JJ Bumrah   \n",
       "813  1237178   Abu Dhabi  06-11-2020   KS Williamson   \n",
       "814  1237180   Abu Dhabi  08-11-2020      MP Stoinis   \n",
       "815  1237181       Dubai  10-11-2020        TA Boult   \n",
       "\n",
       "                                          venue  neutral_venue  \\\n",
       "0                         M Chinnaswamy Stadium              0   \n",
       "1    Punjab Cricket Association Stadium, Mohali              0   \n",
       "2                              Feroz Shah Kotla              0   \n",
       "3                              Wankhede Stadium              0   \n",
       "4                                  Eden Gardens              0   \n",
       "..                                          ...            ...   \n",
       "811         Dubai International Cricket Stadium              0   \n",
       "812         Dubai International Cricket Stadium              0   \n",
       "813                        Sheikh Zayed Stadium              0   \n",
       "814                        Sheikh Zayed Stadium              0   \n",
       "815         Dubai International Cricket Stadium              0   \n",
       "\n",
       "                           team1                        team2  \\\n",
       "0    Royal Challengers Bangalore        Kolkata Knight Riders   \n",
       "1                Kings XI Punjab          Chennai Super Kings   \n",
       "2               Delhi Daredevils             Rajasthan Royals   \n",
       "3                 Mumbai Indians  Royal Challengers Bangalore   \n",
       "4          Kolkata Knight Riders              Deccan Chargers   \n",
       "..                           ...                          ...   \n",
       "811  Royal Challengers Bangalore               Mumbai Indians   \n",
       "812               Mumbai Indians               Delhi Capitals   \n",
       "813  Royal Challengers Bangalore          Sunrisers Hyderabad   \n",
       "814               Delhi Capitals          Sunrisers Hyderabad   \n",
       "815               Delhi Capitals               Mumbai Indians   \n",
       "\n",
       "                     toss_winner toss_decision                       winner  \\\n",
       "0    Royal Challengers Bangalore         field        Kolkata Knight Riders   \n",
       "1            Chennai Super Kings           bat          Chennai Super Kings   \n",
       "2               Rajasthan Royals           bat             Delhi Daredevils   \n",
       "3                 Mumbai Indians           bat  Royal Challengers Bangalore   \n",
       "4                Deccan Chargers           bat        Kolkata Knight Riders   \n",
       "..                           ...           ...                          ...   \n",
       "811               Mumbai Indians         field  Royal Challengers Bangalore   \n",
       "812               Delhi Capitals         field               Mumbai Indians   \n",
       "813          Sunrisers Hyderabad         field          Sunrisers Hyderabad   \n",
       "814               Delhi Capitals           bat               Delhi Capitals   \n",
       "815               Delhi Capitals           bat               Mumbai Indians   \n",
       "\n",
       "      result  result_margin eliminator method      umpire1         umpire2  \\\n",
       "0       runs          140.0          N    NaN    Asad Rauf     RE Koertzen   \n",
       "1       runs           33.0          N    NaN    MR Benson      SL Shastri   \n",
       "2    wickets            9.0          N    NaN    Aleem Dar  GA Pratapkumar   \n",
       "3    wickets            5.0          N    NaN     SJ Davis       DJ Harper   \n",
       "4    wickets            5.0          N    NaN    BF Bowden     K Hariharan   \n",
       "..       ...            ...        ...    ...          ...             ...   \n",
       "811      tie            NaN          Y    NaN  Nitin Menon      PR Reiffel   \n",
       "812     runs           57.0          N    NaN  CB Gaffaney     Nitin Menon   \n",
       "813  wickets            6.0          N    NaN   PR Reiffel          S Ravi   \n",
       "814     runs           17.0          N    NaN   PR Reiffel          S Ravi   \n",
       "815  wickets            5.0          N    NaN  CB Gaffaney     Nitin Menon   \n",
       "\n",
       "     year  \n",
       "0    2008  \n",
       "1    2008  \n",
       "2    2008  \n",
       "3    2008  \n",
       "4    2008  \n",
       "..    ...  \n",
       "811  2020  \n",
       "812  2020  \n",
       "813  2020  \n",
       "814  2020  \n",
       "815  2020  \n",
       "\n",
       "[816 rows x 18 columns]"
      ]
     },
     "execution_count": 16,
     "metadata": {},
     "output_type": "execute_result"
    }
   ],
   "source": [
    "ipl"
   ]
  },
  {
   "cell_type": "code",
   "execution_count": 17,
   "id": "a7661afe",
   "metadata": {},
   "outputs": [
    {
     "data": {
      "text/plain": [
       "Mumbai Indians                 120\n",
       "Chennai Super Kings            106\n",
       "Kolkata Knight Riders           99\n",
       "Royal Challengers Bangalore     91\n",
       "Kings XI Punjab                 88\n",
       "Rajasthan Royals                81\n",
       "Delhi Daredevils                67\n",
       "Sunrisers Hyderabad             66\n",
       "Deccan Chargers                 29\n",
       "Delhi Capitals                  19\n",
       "Gujarat Lions                   13\n",
       "Pune Warriors                   12\n",
       "Rising Pune Supergiant          10\n",
       "Kochi Tuskers Kerala             6\n",
       "Rising Pune Supergiants          5\n",
       "Name: winner, dtype: int64"
      ]
     },
     "execution_count": 17,
     "metadata": {},
     "output_type": "execute_result"
    }
   ],
   "source": [
    "ipl[\"winner\"].value_counts()"
   ]
  },
  {
   "cell_type": "markdown",
   "id": "ec1465ca",
   "metadata": {},
   "source": [
    "# Top 5 most successful teams in ipl"
   ]
  },
  {
   "cell_type": "code",
   "execution_count": 18,
   "id": "1c3b7bd8",
   "metadata": {},
   "outputs": [
    {
     "data": {
      "image/png": "[encoded data removed]",
      "text/plain": [
       "<Figure size 576x360 with 1 Axes>"
      ]
     },
     "metadata": {
      "needs_background": "light"
     },
     "output_type": "display_data"
    }
   ],
   "source": [
    "plt.figure(figsize=(8,5))\n",
    "plt.bar(list(ipl['winner'].value_counts()[0:5].keys()),list(ipl['winner'].value_counts()[0:5] ))\n",
    "plt.xticks(rotation=60)\n",
    "plt.show()"
   ]
  },
  {
   "cell_type": "code",
   "execution_count": 19,
   "id": "7e2f0293",
   "metadata": {},
   "outputs": [
    {
     "data": {
      "text/plain": [
       "Mumbai            101\n",
       "Kolkata            77\n",
       "Delhi              74\n",
       "Bangalore          65\n",
       "Hyderabad          64\n",
       "Chennai            57\n",
       "Chandigarh         56\n",
       "Jaipur             47\n",
       "Pune               38\n",
       "Abu Dhabi          29\n",
       "Dubai              26\n",
       "Bengaluru          15\n",
       "Durban             15\n",
       "Visakhapatnam      13\n",
       "Ahmedabad          12\n",
       "Sharjah            12\n",
       "Centurion          12\n",
       "Rajkot             10\n",
       "Dharamsala          9\n",
       "Indore              9\n",
       "Johannesburg        8\n",
       "Cuttack             7\n",
       "Cape Town           7\n",
       "Port Elizabeth      7\n",
       "Ranchi              7\n",
       "Raipur              6\n",
       "Kochi               5\n",
       "Kanpur              4\n",
       "East London         3\n",
       "Kimberley           3\n",
       "Nagpur              3\n",
       "Bloemfontein        2\n",
       "Name: city, dtype: int64"
      ]
     },
     "execution_count": 19,
     "metadata": {},
     "output_type": "execute_result"
    }
   ],
   "source": [
    "ipl[\"city\"].value_counts()"
   ]
  },
  {
   "cell_type": "code",
   "execution_count": 20,
   "id": "ed5b91ca",
   "metadata": {},
   "outputs": [
    {
     "data": {
      "text/plain": [
       "Mumbai            101\n",
       "Kolkata            77\n",
       "Delhi              74\n",
       "Bangalore          65\n",
       "Hyderabad          64\n",
       "Chennai            57\n",
       "Chandigarh         56\n",
       "Jaipur             47\n",
       "Pune               38\n",
       "Abu Dhabi          29\n",
       "Dubai              26\n",
       "Bengaluru          15\n",
       "Durban             15\n",
       "Visakhapatnam      13\n",
       "Ahmedabad          12\n",
       "Sharjah            12\n",
       "Centurion          12\n",
       "Rajkot             10\n",
       "Dharamsala          9\n",
       "Indore              9\n",
       "Johannesburg        8\n",
       "Cuttack             7\n",
       "Cape Town           7\n",
       "Port Elizabeth      7\n",
       "Ranchi              7\n",
       "Raipur              6\n",
       "Kochi               5\n",
       "Kanpur              4\n",
       "East London         3\n",
       "Kimberley           3\n",
       "Nagpur              3\n",
       "Bloemfontein        2\n",
       "Name: city, dtype: int64"
      ]
     },
     "execution_count": 20,
     "metadata": {},
     "output_type": "execute_result"
    }
   ],
   "source": [
    "city = ipl.city.value_counts(ascending = False)\n",
    "city"
   ]
  },
  {
   "cell_type": "code",
   "execution_count": 21,
   "id": "eacbf768",
   "metadata": {
    "scrolled": true
   },
   "outputs": [
    {
     "data": {
      "text/plain": [
       "Kochi           5\n",
       "Kanpur          4\n",
       "East London     3\n",
       "Kimberley       3\n",
       "Nagpur          3\n",
       "Bloemfontein    2\n",
       "Name: city, dtype: int64"
      ]
     },
     "execution_count": 21,
     "metadata": {},
     "output_type": "execute_result"
    }
   ],
   "source": [
    "no_of_city_lessthan10 = city[city<=5]\n",
    "no_of_city_lessthan10"
   ]
  },
  {
   "cell_type": "code",
   "execution_count": 22,
   "id": "54d3ace1",
   "metadata": {},
   "outputs": [
    {
     "data": {
      "text/plain": [
       "array(['Bangalore', 'Chandigarh', 'Delhi', 'Mumbai', 'Kolkata', 'Jaipur',\n",
       "       'Hyderabad', 'Chennai', 'Cape Town', 'Port Elizabeth', 'Durban',\n",
       "       'Centurion', 'other', 'Johannesburg', 'Ahmedabad', 'Cuttack',\n",
       "       'Dharamsala', 'Indore', 'Visakhapatnam', 'Pune', 'Raipur',\n",
       "       'Ranchi', 'Abu Dhabi', nan, 'Rajkot', 'Bengaluru', 'Dubai',\n",
       "       'Sharjah'], dtype=object)"
      ]
     },
     "execution_count": 22,
     "metadata": {},
     "output_type": "execute_result"
    }
   ],
   "source": [
    "def remove(value):\n",
    "    if value in no_of_city_lessthan10 :\n",
    "        return \"other\"\n",
    "    else:\n",
    "        return value\n",
    "ipl.city = ipl.city.apply(remove)\n",
    "ipl.city.unique()"
   ]
  },
  {
   "cell_type": "code",
   "execution_count": 23,
   "id": "d01227e6",
   "metadata": {},
   "outputs": [
    {
     "data": {
      "text/plain": [
       "Mumbai            101\n",
       "Kolkata            77\n",
       "Delhi              74\n",
       "Bangalore          65\n",
       "Hyderabad          64\n",
       "Chennai            57\n",
       "Chandigarh         56\n",
       "Jaipur             47\n",
       "Pune               38\n",
       "Abu Dhabi          29\n",
       "Dubai              26\n",
       "other              20\n",
       "Bengaluru          15\n",
       "Durban             15\n",
       "Visakhapatnam      13\n",
       "Sharjah            12\n",
       "Ahmedabad          12\n",
       "Centurion          12\n",
       "Rajkot             10\n",
       "Dharamsala          9\n",
       "Indore              9\n",
       "Johannesburg        8\n",
       "Cuttack             7\n",
       "Ranchi              7\n",
       "Port Elizabeth      7\n",
       "Cape Town           7\n",
       "Raipur              6\n",
       "Name: city, dtype: int64"
      ]
     },
     "execution_count": 23,
     "metadata": {},
     "output_type": "execute_result"
    }
   ],
   "source": [
    "ipl.city.value_counts()"
   ]
  },
  {
   "cell_type": "markdown",
   "id": "6eedd57f",
   "metadata": {},
   "source": [
    "# Top 5 cities where match had been played"
   ]
  },
  {
   "cell_type": "code",
   "execution_count": 24,
   "id": "aaa56972",
   "metadata": {},
   "outputs": [
    {
     "data": {
      "image/png": "[encoded data removed]",
      "text/plain": [
       "<Figure size 576x360 with 1 Axes>"
      ]
     },
     "metadata": {
      "needs_background": "light"
     },
     "output_type": "display_data"
    }
   ],
   "source": [
    "plt.figure(figsize=(8,5))\n",
    "plt.bar(list(ipl['city'].value_counts()[0:5].keys()),list(ipl['city'].value_counts()[0:5]))\n",
    "plt.xticks(rotation=60)\n",
    "plt.xlabel(\"Name of city\")\n",
    "plt.ylabel(\"count\")\n",
    "plt.title(\"Top 5 cities where match had been played\")\n",
    "plt.show()"
   ]
  },
  {
   "cell_type": "code",
   "execution_count": 25,
   "id": "64865da6",
   "metadata": {},
   "outputs": [
    {
     "data": {
      "text/plain": [
       "2013    76\n",
       "2012    74\n",
       "2011    73\n",
       "2010    60\n",
       "2014    60\n",
       "2016    60\n",
       "2018    60\n",
       "2019    60\n",
       "2020    60\n",
       "2015    59\n",
       "2017    59\n",
       "2008    58\n",
       "2009    57\n",
       "Name: year, dtype: int64"
      ]
     },
     "execution_count": 25,
     "metadata": {},
     "output_type": "execute_result"
    }
   ],
   "source": [
    "ipl[\"year\"].value_counts()"
   ]
  },
  {
   "cell_type": "markdown",
   "id": "db4f3fdb",
   "metadata": {},
   "source": [
    "# TOTAL NO OF MATCHES IN EACH SEASON"
   ]
  },
  {
   "cell_type": "code",
   "execution_count": 26,
   "id": "97f648d0",
   "metadata": {},
   "outputs": [
    {
     "data": {
      "text/html": [
       "<div>\n",
       "<style scoped>\n",
       "    .dataframe tbody tr th:only-of-type {\n",
       "        vertical-align: middle;\n",
       "    }\n",
       "\n",
       "    .dataframe tbody tr th {\n",
       "        vertical-align: top;\n",
       "    }\n",
       "\n",
       "    .dataframe thead th {\n",
       "        text-align: right;\n",
       "    }\n",
       "</style>\n",
       "<table border=\"1\" class=\"dataframe\">\n",
       "  <thead>\n",
       "    <tr style=\"text-align: right;\">\n",
       "      <th></th>\n",
       "      <th>year</th>\n",
       "      <th>matches</th>\n",
       "    </tr>\n",
       "  </thead>\n",
       "  <tbody>\n",
       "    <tr>\n",
       "      <th>0</th>\n",
       "      <td>2008</td>\n",
       "      <td>58</td>\n",
       "    </tr>\n",
       "    <tr>\n",
       "      <th>1</th>\n",
       "      <td>2009</td>\n",
       "      <td>57</td>\n",
       "    </tr>\n",
       "    <tr>\n",
       "      <th>2</th>\n",
       "      <td>2010</td>\n",
       "      <td>60</td>\n",
       "    </tr>\n",
       "    <tr>\n",
       "      <th>3</th>\n",
       "      <td>2011</td>\n",
       "      <td>73</td>\n",
       "    </tr>\n",
       "    <tr>\n",
       "      <th>4</th>\n",
       "      <td>2012</td>\n",
       "      <td>74</td>\n",
       "    </tr>\n",
       "    <tr>\n",
       "      <th>5</th>\n",
       "      <td>2013</td>\n",
       "      <td>76</td>\n",
       "    </tr>\n",
       "    <tr>\n",
       "      <th>6</th>\n",
       "      <td>2014</td>\n",
       "      <td>60</td>\n",
       "    </tr>\n",
       "    <tr>\n",
       "      <th>7</th>\n",
       "      <td>2015</td>\n",
       "      <td>59</td>\n",
       "    </tr>\n",
       "    <tr>\n",
       "      <th>8</th>\n",
       "      <td>2016</td>\n",
       "      <td>60</td>\n",
       "    </tr>\n",
       "    <tr>\n",
       "      <th>9</th>\n",
       "      <td>2017</td>\n",
       "      <td>59</td>\n",
       "    </tr>\n",
       "    <tr>\n",
       "      <th>10</th>\n",
       "      <td>2018</td>\n",
       "      <td>60</td>\n",
       "    </tr>\n",
       "    <tr>\n",
       "      <th>11</th>\n",
       "      <td>2019</td>\n",
       "      <td>60</td>\n",
       "    </tr>\n",
       "    <tr>\n",
       "      <th>12</th>\n",
       "      <td>2020</td>\n",
       "      <td>60</td>\n",
       "    </tr>\n",
       "  </tbody>\n",
       "</table>\n",
       "</div>"
      ],
      "text/plain": [
       "    year  matches\n",
       "0   2008       58\n",
       "1   2009       57\n",
       "2   2010       60\n",
       "3   2011       73\n",
       "4   2012       74\n",
       "5   2013       76\n",
       "6   2014       60\n",
       "7   2015       59\n",
       "8   2016       60\n",
       "9   2017       59\n",
       "10  2018       60\n",
       "11  2019       60\n",
       "12  2020       60"
      ]
     },
     "execution_count": 26,
     "metadata": {},
     "output_type": "execute_result"
    }
   ],
   "source": [
    "match_per_season = ipl.groupby([\"year\"])[\"id\"].count().reset_index().rename(columns={\"id\": \"matches\"})\n",
    "match_per_season"
   ]
  },
  {
   "cell_type": "code",
   "execution_count": 27,
   "id": "de27d7e0",
   "metadata": {},
   "outputs": [
    {
     "name": "stderr",
     "output_type": "stream",
     "text": [
      "C:\\Users\\VISHAL JHA\\anaconda3\\lib\\site-packages\\seaborn\\_decorators.py:36: FutureWarning: Pass the following variable as a keyword arg: x. From version 0.12, the only valid positional argument will be `data`, and passing other arguments without an explicit keyword will result in an error or misinterpretation.\n",
      "  warnings.warn(\n"
     ]
    },
    {
     "data": {
      "text/plain": [
       "Text(0.5, 1.0, 'Total no of Matches in Each Season')"
      ]
     },
     "execution_count": 27,
     "metadata": {},
     "output_type": "execute_result"
    },
    {
     "data": {
      "image/png": "[encoded data removed]",
      "text/plain": [
       "<Figure size 432x288 with 1 Axes>"
      ]
     },
     "metadata": {
      "needs_background": "light"
     },
     "output_type": "display_data"
    }
   ],
   "source": [
    "sns.countplot(ipl[\"year\"])\n",
    "plt.xticks(rotation = 45)\n",
    "plt.xlabel(\"season\" , fontsize=15)\n",
    "plt.ylabel(\"count\" ,fontsize = 15)\n",
    "plt.title(\"Total no of Matches in Each Season\" ,fontsize = 10 , fontweight = \"bold\")"
   ]
  },
  {
   "cell_type": "code",
   "execution_count": 28,
   "id": "198b6274",
   "metadata": {},
   "outputs": [
    {
     "data": {
      "text/html": [
       "<div>\n",
       "<style scoped>\n",
       "    .dataframe tbody tr th:only-of-type {\n",
       "        vertical-align: middle;\n",
       "    }\n",
       "\n",
       "    .dataframe tbody tr th {\n",
       "        vertical-align: top;\n",
       "    }\n",
       "\n",
       "    .dataframe thead th {\n",
       "        text-align: right;\n",
       "    }\n",
       "</style>\n",
       "<table border=\"1\" class=\"dataframe\">\n",
       "  <thead>\n",
       "    <tr style=\"text-align: right;\">\n",
       "      <th></th>\n",
       "      <th>year</th>\n",
       "      <th>inning</th>\n",
       "      <th>over</th>\n",
       "      <th>ball</th>\n",
       "      <th>batsman</th>\n",
       "      <th>non_striker</th>\n",
       "      <th>bowler</th>\n",
       "      <th>batsman_runs</th>\n",
       "      <th>extra_runs</th>\n",
       "      <th>total_runs</th>\n",
       "      <th>non_boundary</th>\n",
       "      <th>is_wicket</th>\n",
       "      <th>dismissal_kind</th>\n",
       "      <th>player_dismissed</th>\n",
       "      <th>fielder</th>\n",
       "      <th>extras_type</th>\n",
       "      <th>batting_team</th>\n",
       "      <th>bowling_team</th>\n",
       "    </tr>\n",
       "  </thead>\n",
       "  <tbody>\n",
       "    <tr>\n",
       "      <th>0</th>\n",
       "      <td>2008</td>\n",
       "      <td>1</td>\n",
       "      <td>6</td>\n",
       "      <td>5</td>\n",
       "      <td>RT Ponting</td>\n",
       "      <td>BB McCullum</td>\n",
       "      <td>AA Noffke</td>\n",
       "      <td>1</td>\n",
       "      <td>0</td>\n",
       "      <td>1</td>\n",
       "      <td>0</td>\n",
       "      <td>0</td>\n",
       "      <td>NaN</td>\n",
       "      <td>NaN</td>\n",
       "      <td>NaN</td>\n",
       "      <td>NaN</td>\n",
       "      <td>Kolkata Knight Riders</td>\n",
       "      <td>Royal Challengers Bangalore</td>\n",
       "    </tr>\n",
       "    <tr>\n",
       "      <th>1</th>\n",
       "      <td>2008</td>\n",
       "      <td>1</td>\n",
       "      <td>6</td>\n",
       "      <td>6</td>\n",
       "      <td>BB McCullum</td>\n",
       "      <td>RT Ponting</td>\n",
       "      <td>AA Noffke</td>\n",
       "      <td>1</td>\n",
       "      <td>0</td>\n",
       "      <td>1</td>\n",
       "      <td>0</td>\n",
       "      <td>0</td>\n",
       "      <td>NaN</td>\n",
       "      <td>NaN</td>\n",
       "      <td>NaN</td>\n",
       "      <td>NaN</td>\n",
       "      <td>Kolkata Knight Riders</td>\n",
       "      <td>Royal Challengers Bangalore</td>\n",
       "    </tr>\n",
       "    <tr>\n",
       "      <th>2</th>\n",
       "      <td>2008</td>\n",
       "      <td>1</td>\n",
       "      <td>7</td>\n",
       "      <td>1</td>\n",
       "      <td>BB McCullum</td>\n",
       "      <td>RT Ponting</td>\n",
       "      <td>Z Khan</td>\n",
       "      <td>0</td>\n",
       "      <td>0</td>\n",
       "      <td>0</td>\n",
       "      <td>0</td>\n",
       "      <td>0</td>\n",
       "      <td>NaN</td>\n",
       "      <td>NaN</td>\n",
       "      <td>NaN</td>\n",
       "      <td>NaN</td>\n",
       "      <td>Kolkata Knight Riders</td>\n",
       "      <td>Royal Challengers Bangalore</td>\n",
       "    </tr>\n",
       "    <tr>\n",
       "      <th>3</th>\n",
       "      <td>2008</td>\n",
       "      <td>1</td>\n",
       "      <td>7</td>\n",
       "      <td>2</td>\n",
       "      <td>BB McCullum</td>\n",
       "      <td>RT Ponting</td>\n",
       "      <td>Z Khan</td>\n",
       "      <td>1</td>\n",
       "      <td>0</td>\n",
       "      <td>1</td>\n",
       "      <td>0</td>\n",
       "      <td>0</td>\n",
       "      <td>NaN</td>\n",
       "      <td>NaN</td>\n",
       "      <td>NaN</td>\n",
       "      <td>NaN</td>\n",
       "      <td>Kolkata Knight Riders</td>\n",
       "      <td>Royal Challengers Bangalore</td>\n",
       "    </tr>\n",
       "    <tr>\n",
       "      <th>4</th>\n",
       "      <td>2008</td>\n",
       "      <td>1</td>\n",
       "      <td>7</td>\n",
       "      <td>3</td>\n",
       "      <td>RT Ponting</td>\n",
       "      <td>BB McCullum</td>\n",
       "      <td>Z Khan</td>\n",
       "      <td>1</td>\n",
       "      <td>0</td>\n",
       "      <td>1</td>\n",
       "      <td>0</td>\n",
       "      <td>0</td>\n",
       "      <td>NaN</td>\n",
       "      <td>NaN</td>\n",
       "      <td>NaN</td>\n",
       "      <td>NaN</td>\n",
       "      <td>Kolkata Knight Riders</td>\n",
       "      <td>Royal Challengers Bangalore</td>\n",
       "    </tr>\n",
       "  </tbody>\n",
       "</table>\n",
       "</div>"
      ],
      "text/plain": [
       "   year  inning  over  ball      batsman  non_striker     bowler  \\\n",
       "0  2008       1     6     5   RT Ponting  BB McCullum  AA Noffke   \n",
       "1  2008       1     6     6  BB McCullum   RT Ponting  AA Noffke   \n",
       "2  2008       1     7     1  BB McCullum   RT Ponting     Z Khan   \n",
       "3  2008       1     7     2  BB McCullum   RT Ponting     Z Khan   \n",
       "4  2008       1     7     3   RT Ponting  BB McCullum     Z Khan   \n",
       "\n",
       "   batsman_runs  extra_runs  total_runs  non_boundary  is_wicket  \\\n",
       "0             1           0           1             0          0   \n",
       "1             1           0           1             0          0   \n",
       "2             0           0           0             0          0   \n",
       "3             1           0           1             0          0   \n",
       "4             1           0           1             0          0   \n",
       "\n",
       "  dismissal_kind player_dismissed fielder extras_type           batting_team  \\\n",
       "0            NaN              NaN     NaN         NaN  Kolkata Knight Riders   \n",
       "1            NaN              NaN     NaN         NaN  Kolkata Knight Riders   \n",
       "2            NaN              NaN     NaN         NaN  Kolkata Knight Riders   \n",
       "3            NaN              NaN     NaN         NaN  Kolkata Knight Riders   \n",
       "4            NaN              NaN     NaN         NaN  Kolkata Knight Riders   \n",
       "\n",
       "                  bowling_team  \n",
       "0  Royal Challengers Bangalore  \n",
       "1  Royal Challengers Bangalore  \n",
       "2  Royal Challengers Bangalore  \n",
       "3  Royal Challengers Bangalore  \n",
       "4  Royal Challengers Bangalore  "
      ]
     },
     "execution_count": 28,
     "metadata": {},
     "output_type": "execute_result"
    }
   ],
   "source": [
    "season_data = ipl[[\"id\",\"year\"]].merge(ipl2 , left_on = \"id\" , right_on = \"id\" , how = \"left\").drop(\"id\" , axis =1)\n",
    "season_data.head()"
   ]
  },
  {
   "cell_type": "code",
   "execution_count": 29,
   "id": "39a9122d",
   "metadata": {},
   "outputs": [
    {
     "data": {
      "text/html": [
       "<div>\n",
       "<style scoped>\n",
       "    .dataframe tbody tr th:only-of-type {\n",
       "        vertical-align: middle;\n",
       "    }\n",
       "\n",
       "    .dataframe tbody tr th {\n",
       "        vertical-align: top;\n",
       "    }\n",
       "\n",
       "    .dataframe thead th {\n",
       "        text-align: right;\n",
       "    }\n",
       "</style>\n",
       "<table border=\"1\" class=\"dataframe\">\n",
       "  <thead>\n",
       "    <tr style=\"text-align: right;\">\n",
       "      <th></th>\n",
       "      <th>year</th>\n",
       "      <th>inning</th>\n",
       "      <th>over</th>\n",
       "      <th>ball</th>\n",
       "      <th>batsman</th>\n",
       "      <th>non_striker</th>\n",
       "      <th>bowler</th>\n",
       "      <th>batsman_runs</th>\n",
       "      <th>extra_runs</th>\n",
       "      <th>total_runs</th>\n",
       "      <th>non_boundary</th>\n",
       "      <th>is_wicket</th>\n",
       "      <th>dismissal_kind</th>\n",
       "      <th>player_dismissed</th>\n",
       "      <th>fielder</th>\n",
       "      <th>extras_type</th>\n",
       "      <th>batting_team</th>\n",
       "      <th>bowling_team</th>\n",
       "    </tr>\n",
       "  </thead>\n",
       "  <tbody>\n",
       "    <tr>\n",
       "      <th>0</th>\n",
       "      <td>2008</td>\n",
       "      <td>1</td>\n",
       "      <td>6</td>\n",
       "      <td>5</td>\n",
       "      <td>RT Ponting</td>\n",
       "      <td>BB McCullum</td>\n",
       "      <td>AA Noffke</td>\n",
       "      <td>1</td>\n",
       "      <td>0</td>\n",
       "      <td>1</td>\n",
       "      <td>0</td>\n",
       "      <td>0</td>\n",
       "      <td>NaN</td>\n",
       "      <td>NaN</td>\n",
       "      <td>NaN</td>\n",
       "      <td>NaN</td>\n",
       "      <td>Kolkata Knight Riders</td>\n",
       "      <td>Royal Challengers Bangalore</td>\n",
       "    </tr>\n",
       "    <tr>\n",
       "      <th>1</th>\n",
       "      <td>2008</td>\n",
       "      <td>1</td>\n",
       "      <td>6</td>\n",
       "      <td>6</td>\n",
       "      <td>BB McCullum</td>\n",
       "      <td>RT Ponting</td>\n",
       "      <td>AA Noffke</td>\n",
       "      <td>1</td>\n",
       "      <td>0</td>\n",
       "      <td>1</td>\n",
       "      <td>0</td>\n",
       "      <td>0</td>\n",
       "      <td>NaN</td>\n",
       "      <td>NaN</td>\n",
       "      <td>NaN</td>\n",
       "      <td>NaN</td>\n",
       "      <td>Kolkata Knight Riders</td>\n",
       "      <td>Royal Challengers Bangalore</td>\n",
       "    </tr>\n",
       "  </tbody>\n",
       "</table>\n",
       "</div>"
      ],
      "text/plain": [
       "   year  inning  over  ball      batsman  non_striker     bowler  \\\n",
       "0  2008       1     6     5   RT Ponting  BB McCullum  AA Noffke   \n",
       "1  2008       1     6     6  BB McCullum   RT Ponting  AA Noffke   \n",
       "\n",
       "   batsman_runs  extra_runs  total_runs  non_boundary  is_wicket  \\\n",
       "0             1           0           1             0          0   \n",
       "1             1           0           1             0          0   \n",
       "\n",
       "  dismissal_kind player_dismissed fielder extras_type           batting_team  \\\n",
       "0            NaN              NaN     NaN         NaN  Kolkata Knight Riders   \n",
       "1            NaN              NaN     NaN         NaN  Kolkata Knight Riders   \n",
       "\n",
       "                  bowling_team  \n",
       "0  Royal Challengers Bangalore  \n",
       "1  Royal Challengers Bangalore  "
      ]
     },
     "execution_count": 29,
     "metadata": {},
     "output_type": "execute_result"
    }
   ],
   "source": [
    "season_data.head(2)"
   ]
  },
  {
   "cell_type": "markdown",
   "id": "693c319b",
   "metadata": {},
   "source": [
    "# TOTAL RUNS IN EACH SEASON "
   ]
  },
  {
   "cell_type": "code",
   "execution_count": 30,
   "id": "a89e7135",
   "metadata": {},
   "outputs": [
    {
     "data": {
      "text/html": [
       "<div>\n",
       "<style scoped>\n",
       "    .dataframe tbody tr th:only-of-type {\n",
       "        vertical-align: middle;\n",
       "    }\n",
       "\n",
       "    .dataframe tbody tr th {\n",
       "        vertical-align: top;\n",
       "    }\n",
       "\n",
       "    .dataframe thead th {\n",
       "        text-align: right;\n",
       "    }\n",
       "</style>\n",
       "<table border=\"1\" class=\"dataframe\">\n",
       "  <thead>\n",
       "    <tr style=\"text-align: right;\">\n",
       "      <th></th>\n",
       "      <th>year</th>\n",
       "      <th>total_runs</th>\n",
       "    </tr>\n",
       "  </thead>\n",
       "  <tbody>\n",
       "    <tr>\n",
       "      <th>0</th>\n",
       "      <td>2008</td>\n",
       "      <td>17937</td>\n",
       "    </tr>\n",
       "    <tr>\n",
       "      <th>1</th>\n",
       "      <td>2009</td>\n",
       "      <td>16320</td>\n",
       "    </tr>\n",
       "    <tr>\n",
       "      <th>2</th>\n",
       "      <td>2010</td>\n",
       "      <td>18864</td>\n",
       "    </tr>\n",
       "    <tr>\n",
       "      <th>3</th>\n",
       "      <td>2011</td>\n",
       "      <td>21154</td>\n",
       "    </tr>\n",
       "    <tr>\n",
       "      <th>4</th>\n",
       "      <td>2012</td>\n",
       "      <td>22453</td>\n",
       "    </tr>\n",
       "    <tr>\n",
       "      <th>5</th>\n",
       "      <td>2013</td>\n",
       "      <td>22541</td>\n",
       "    </tr>\n",
       "    <tr>\n",
       "      <th>6</th>\n",
       "      <td>2014</td>\n",
       "      <td>18909</td>\n",
       "    </tr>\n",
       "    <tr>\n",
       "      <th>7</th>\n",
       "      <td>2015</td>\n",
       "      <td>18332</td>\n",
       "    </tr>\n",
       "    <tr>\n",
       "      <th>8</th>\n",
       "      <td>2016</td>\n",
       "      <td>18862</td>\n",
       "    </tr>\n",
       "    <tr>\n",
       "      <th>9</th>\n",
       "      <td>2017</td>\n",
       "      <td>18769</td>\n",
       "    </tr>\n",
       "    <tr>\n",
       "      <th>10</th>\n",
       "      <td>2018</td>\n",
       "      <td>19901</td>\n",
       "    </tr>\n",
       "    <tr>\n",
       "      <th>11</th>\n",
       "      <td>2019</td>\n",
       "      <td>19400</td>\n",
       "    </tr>\n",
       "    <tr>\n",
       "      <th>12</th>\n",
       "      <td>2020</td>\n",
       "      <td>19352</td>\n",
       "    </tr>\n",
       "  </tbody>\n",
       "</table>\n",
       "</div>"
      ],
      "text/plain": [
       "    year  total_runs\n",
       "0   2008       17937\n",
       "1   2009       16320\n",
       "2   2010       18864\n",
       "3   2011       21154\n",
       "4   2012       22453\n",
       "5   2013       22541\n",
       "6   2014       18909\n",
       "7   2015       18332\n",
       "8   2016       18862\n",
       "9   2017       18769\n",
       "10  2018       19901\n",
       "11  2019       19400\n",
       "12  2020       19352"
      ]
     },
     "execution_count": 30,
     "metadata": {},
     "output_type": "execute_result"
    }
   ],
   "source": [
    "season = season_data.groupby([\"year\"])[\"total_runs\"].sum().reset_index() \n",
    "season"
   ]
  },
  {
   "cell_type": "code",
   "execution_count": 53,
   "id": "eeed4c17",
   "metadata": {},
   "outputs": [
    {
     "data": {
      "image/png": "[encoded data removed]",
      "text/plain": [
       "<Figure size 432x288 with 1 Axes>"
      ]
     },
     "metadata": {
      "needs_background": "light"
     },
     "output_type": "display_data"
    }
   ],
   "source": [
    "season = season_data.groupby([\"year\"])[\"total_runs\"].sum().reset_index() \n",
    "p =season.set_index(\"year\")\n",
    "ax = plt.axes()\n",
    "ax.set(facecolor = \"cyan\")\n",
    "sns.lineplot(data= p, palette =\"magma\")\n",
    "plt.title(\"Total Runs in each Season\" , fontsize =12 , fontweight = 'bold')\n",
    "plt.xticks(rotation=45)\n",
    "plt.show()"
   ]
  },
  {
   "cell_type": "code",
   "execution_count": 32,
   "id": "bd08b970",
   "metadata": {},
   "outputs": [
    {
     "data": {
      "text/html": [
       "<div>\n",
       "<style scoped>\n",
       "    .dataframe tbody tr th:only-of-type {\n",
       "        vertical-align: middle;\n",
       "    }\n",
       "\n",
       "    .dataframe tbody tr th {\n",
       "        vertical-align: top;\n",
       "    }\n",
       "\n",
       "    .dataframe thead th {\n",
       "        text-align: right;\n",
       "    }\n",
       "</style>\n",
       "<table border=\"1\" class=\"dataframe\">\n",
       "  <thead>\n",
       "    <tr style=\"text-align: right;\">\n",
       "      <th></th>\n",
       "      <th>year</th>\n",
       "      <th>matches</th>\n",
       "      <th>total_runs</th>\n",
       "      <th>Runs Scored Per Mach</th>\n",
       "    </tr>\n",
       "  </thead>\n",
       "  <tbody>\n",
       "    <tr>\n",
       "      <th>0</th>\n",
       "      <td>2008</td>\n",
       "      <td>58</td>\n",
       "      <td>17937</td>\n",
       "      <td>309.258621</td>\n",
       "    </tr>\n",
       "    <tr>\n",
       "      <th>1</th>\n",
       "      <td>2009</td>\n",
       "      <td>57</td>\n",
       "      <td>16320</td>\n",
       "      <td>286.315789</td>\n",
       "    </tr>\n",
       "    <tr>\n",
       "      <th>2</th>\n",
       "      <td>2010</td>\n",
       "      <td>60</td>\n",
       "      <td>18864</td>\n",
       "      <td>314.400000</td>\n",
       "    </tr>\n",
       "    <tr>\n",
       "      <th>3</th>\n",
       "      <td>2011</td>\n",
       "      <td>73</td>\n",
       "      <td>21154</td>\n",
       "      <td>289.780822</td>\n",
       "    </tr>\n",
       "    <tr>\n",
       "      <th>4</th>\n",
       "      <td>2012</td>\n",
       "      <td>74</td>\n",
       "      <td>22453</td>\n",
       "      <td>303.418919</td>\n",
       "    </tr>\n",
       "    <tr>\n",
       "      <th>5</th>\n",
       "      <td>2013</td>\n",
       "      <td>76</td>\n",
       "      <td>22541</td>\n",
       "      <td>296.592105</td>\n",
       "    </tr>\n",
       "    <tr>\n",
       "      <th>6</th>\n",
       "      <td>2014</td>\n",
       "      <td>60</td>\n",
       "      <td>18909</td>\n",
       "      <td>315.150000</td>\n",
       "    </tr>\n",
       "    <tr>\n",
       "      <th>7</th>\n",
       "      <td>2015</td>\n",
       "      <td>59</td>\n",
       "      <td>18332</td>\n",
       "      <td>310.711864</td>\n",
       "    </tr>\n",
       "    <tr>\n",
       "      <th>8</th>\n",
       "      <td>2016</td>\n",
       "      <td>60</td>\n",
       "      <td>18862</td>\n",
       "      <td>314.366667</td>\n",
       "    </tr>\n",
       "    <tr>\n",
       "      <th>9</th>\n",
       "      <td>2017</td>\n",
       "      <td>59</td>\n",
       "      <td>18769</td>\n",
       "      <td>318.118644</td>\n",
       "    </tr>\n",
       "    <tr>\n",
       "      <th>10</th>\n",
       "      <td>2018</td>\n",
       "      <td>60</td>\n",
       "      <td>19901</td>\n",
       "      <td>331.683333</td>\n",
       "    </tr>\n",
       "    <tr>\n",
       "      <th>11</th>\n",
       "      <td>2019</td>\n",
       "      <td>60</td>\n",
       "      <td>19400</td>\n",
       "      <td>323.333333</td>\n",
       "    </tr>\n",
       "    <tr>\n",
       "      <th>12</th>\n",
       "      <td>2020</td>\n",
       "      <td>60</td>\n",
       "      <td>19352</td>\n",
       "      <td>322.533333</td>\n",
       "    </tr>\n",
       "  </tbody>\n",
       "</table>\n",
       "</div>"
      ],
      "text/plain": [
       "    year  matches  total_runs  Runs Scored Per Mach\n",
       "0   2008       58       17937            309.258621\n",
       "1   2009       57       16320            286.315789\n",
       "2   2010       60       18864            314.400000\n",
       "3   2011       73       21154            289.780822\n",
       "4   2012       74       22453            303.418919\n",
       "5   2013       76       22541            296.592105\n",
       "6   2014       60       18909            315.150000\n",
       "7   2015       59       18332            310.711864\n",
       "8   2016       60       18862            314.366667\n",
       "9   2017       59       18769            318.118644\n",
       "10  2018       60       19901            331.683333\n",
       "11  2019       60       19400            323.333333\n",
       "12  2020       60       19352            322.533333"
      ]
     },
     "execution_count": 32,
     "metadata": {},
     "output_type": "execute_result"
    }
   ],
   "source": [
    "runs_per_season =pd.concat([match_per_season, season.iloc[:,1]] ,axis =1)\n",
    "runs_per_season['Runs Scored Per Mach']=runs_per_season[\"total_runs\"]/runs_per_season[\"matches\"]\n",
    "runs_per_season                            "
   ]
  },
  {
   "cell_type": "markdown",
   "id": "a1a06717",
   "metadata": {},
   "source": [
    "# Toss Decisions After Winning the Toss"
   ]
  },
  {
   "cell_type": "code",
   "execution_count": 33,
   "id": "6c00439f",
   "metadata": {},
   "outputs": [
    {
     "data": {
      "image/png": "[encoded data removed]",
      "text/plain": [
       "<Figure size 432x288 with 1 Axes>"
      ]
     },
     "metadata": {
      "needs_background": "light"
     },
     "output_type": "display_data"
    }
   ],
   "source": [
    "ax = plt.axes()\n",
    "ax.set(facecolor = \"cyan\")\n",
    "sns.countplot(x = \"year\" , hue = \"toss_decision\" , data = ipl , palette = \"magma\" , saturation = 1)\n",
    "plt.xticks(rotation = 90 ,fontsize = 15)\n",
    "plt.yticks(fontsize = 10)\n",
    "plt.title(\"Toss Decisions After Winning the Toss\")\n",
    "plt.show()"
   ]
  },
  {
   "cell_type": "markdown",
   "id": "2c988526",
   "metadata": {},
   "source": [
    "# MOST WINS IN ELIMINATOR BY EACH TEAM"
   ]
  },
  {
   "cell_type": "code",
   "execution_count": 34,
   "id": "2a7c82d4",
   "metadata": {},
   "outputs": [
    {
     "data": {
      "text/plain": [
       "N    799\n",
       "Y     13\n",
       "Name: eliminator, dtype: int64"
      ]
     },
     "execution_count": 34,
     "metadata": {},
     "output_type": "execute_result"
    }
   ],
   "source": [
    "ipl[\"eliminator\"].value_counts()"
   ]
  },
  {
   "cell_type": "code",
   "execution_count": 35,
   "id": "9e672493",
   "metadata": {},
   "outputs": [
    {
     "name": "stderr",
     "output_type": "stream",
     "text": [
      "C:\\Users\\VISHAL JHA\\anaconda3\\lib\\site-packages\\seaborn\\_decorators.py:36: FutureWarning: Pass the following variable as a keyword arg: x. From version 0.12, the only valid positional argument will be `data`, and passing other arguments without an explicit keyword will result in an error or misinterpretation.\n",
      "  warnings.warn(\n"
     ]
    },
    {
     "data": {
      "text/plain": [
       "Text(0.5, 1.0, 'Most Wins in Eliminator')"
      ]
     },
     "execution_count": 35,
     "metadata": {},
     "output_type": "execute_result"
    },
    {
     "data": {
      "image/png": "[encoded data removed]",
      "text/plain": [
       "<Figure size 432x288 with 1 Axes>"
      ]
     },
     "metadata": {
      "needs_background": "light"
     },
     "output_type": "display_data"
    }
   ],
   "source": [
    "sns.countplot(ipl[\"winner\"][ipl['eliminator'] =='Y'], data = ipl)\n",
    "plt.xticks(rotation=90 , fontsize =15)\n",
    "plt.title(\"Most Wins in Eliminator\")"
   ]
  },
  {
   "cell_type": "code",
   "execution_count": 36,
   "id": "a5777c77",
   "metadata": {},
   "outputs": [
    {
     "data": {
      "text/plain": [
       "winner\n",
       "Delhi Capitals                 2\n",
       "Kings XI Punjab                3\n",
       "Kolkata Knight Riders          1\n",
       "Mumbai Indians                 2\n",
       "Rajasthan Royals               2\n",
       "Royal Challengers Bangalore    2\n",
       "Sunrisers Hyderabad            1\n",
       "Name: winner, dtype: int64"
      ]
     },
     "execution_count": 36,
     "metadata": {},
     "output_type": "execute_result"
    }
   ],
   "source": [
    "elm = ipl[\"winner\"].groupby(ipl[\"winner\"][ipl['eliminator'] =='Y']).count()\n",
    "elm"
   ]
  },
  {
   "cell_type": "code",
   "execution_count": 37,
   "id": "b1e76ea2",
   "metadata": {},
   "outputs": [
    {
     "data": {
      "text/plain": [
       "Kings XI Punjab                3\n",
       "Rajasthan Royals               2\n",
       "Royal Challengers Bangalore    2\n",
       "Mumbai Indians                 2\n",
       "Delhi Capitals                 2\n",
       "Sunrisers Hyderabad            1\n",
       "Kolkata Knight Riders          1\n",
       "Name: winner, dtype: int64"
      ]
     },
     "execution_count": 37,
     "metadata": {},
     "output_type": "execute_result"
    }
   ],
   "source": [
    "ipl[\"winner\"][ipl['eliminator'] =='Y'].value_counts()"
   ]
  },
  {
   "cell_type": "code",
   "execution_count": 38,
   "id": "0a21d6e9",
   "metadata": {},
   "outputs": [
    {
     "data": {
      "text/plain": [
       "0    Eden Gardens\n",
       "Name: venue, dtype: object"
      ]
     },
     "execution_count": 38,
     "metadata": {},
     "output_type": "execute_result"
    }
   ],
   "source": [
    "ipl.venue[ipl.result!='runs'].mode()"
   ]
  },
  {
   "cell_type": "markdown",
   "id": "f0072608",
   "metadata": {},
   "source": [
    "# Eden Garden is best stadium for chsaing run"
   ]
  },
  {
   "cell_type": "code",
   "execution_count": 39,
   "id": "7e4b8fef",
   "metadata": {},
   "outputs": [
    {
     "data": {
      "text/plain": [
       "0    Feroz Shah Kotla\n",
       "Name: venue, dtype: object"
      ]
     },
     "execution_count": 39,
     "metadata": {},
     "output_type": "execute_result"
    }
   ],
   "source": [
    "ipl.venue[ipl.result!='wickets'].mode()"
   ]
  },
  {
   "cell_type": "markdown",
   "id": "22b8cdc8",
   "metadata": {},
   "source": [
    "# Feroz shah kotla is best stadium for defending total"
   ]
  },
  {
   "cell_type": "code",
   "execution_count": 40,
   "id": "08097717",
   "metadata": {},
   "outputs": [
    {
     "data": {
      "text/plain": [
       "0    Wankhede Stadium\n",
       "Name: venue, dtype: object"
      ]
     },
     "execution_count": 40,
     "metadata": {},
     "output_type": "execute_result"
    }
   ],
   "source": [
    "ipl.venue[ipl.toss_winner==\"Mumbai Indians\"][ipl.winner=='Mumbai Indians'].mode()"
   ]
  },
  {
   "cell_type": "code",
   "execution_count": 41,
   "id": "be6ab1c4",
   "metadata": {},
   "outputs": [
    {
     "data": {
      "text/plain": [
       "0    Eden Gardens\n",
       "Name: venue, dtype: object"
      ]
     },
     "execution_count": 41,
     "metadata": {},
     "output_type": "execute_result"
    }
   ],
   "source": [
    "ipl.venue[ipl.toss_winner==\"Kolkata Knight Riders\"][ipl.winner==\"Kolkata Knight Riders\"].mode()"
   ]
  },
  {
   "cell_type": "code",
   "execution_count": 42,
   "id": "863909fd",
   "metadata": {},
   "outputs": [
    {
     "data": {
      "text/plain": [
       "0    Kolkata Knight Riders\n",
       "1           Mumbai Indians\n",
       "Name: winner, dtype: object"
      ]
     },
     "execution_count": 42,
     "metadata": {},
     "output_type": "execute_result"
    }
   ],
   "source": [
    "ipl.winner[ipl.result!='runs'].mode()"
   ]
  },
  {
   "cell_type": "code",
   "execution_count": 43,
   "id": "4b88ba0b",
   "metadata": {},
   "outputs": [
    {
     "data": {
      "text/plain": [
       "0    Mumbai Indians\n",
       "Name: winner, dtype: object"
      ]
     },
     "execution_count": 43,
     "metadata": {},
     "output_type": "execute_result"
    }
   ],
   "source": [
    "ipl.winner[ipl.result!='wickets'].mode()"
   ]
  },
  {
   "cell_type": "markdown",
   "id": "f78a5b76",
   "metadata": {},
   "source": [
    "# winning the toss means winning the match"
   ]
  },
  {
   "cell_type": "code",
   "execution_count": 44,
   "id": "f6a28d45",
   "metadata": {},
   "outputs": [
    {
     "name": "stderr",
     "output_type": "stream",
     "text": [
      "C:\\Users\\VISHAL JHA\\anaconda3\\lib\\site-packages\\seaborn\\_decorators.py:36: FutureWarning: Pass the following variable as a keyword arg: x. From version 0.12, the only valid positional argument will be `data`, and passing other arguments without an explicit keyword will result in an error or misinterpretation.\n",
      "  warnings.warn(\n"
     ]
    },
    {
     "data": {
      "image/png": "[encoded data removed]",
      "text/plain": [
       "<Figure size 576x288 with 1 Axes>"
      ]
     },
     "metadata": {
      "needs_background": "light"
     },
     "output_type": "display_data"
    }
   ],
   "source": [
    "toss = ipl['toss_winner'] == ipl[\"winner\"]\n",
    "plt.figure(figsize= (8,4))\n",
    "sns.countplot(toss)\n",
    "plt.show()"
   ]
  },
  {
   "cell_type": "code",
   "execution_count": 45,
   "id": "6c31f101",
   "metadata": {},
   "outputs": [
    {
     "name": "stderr",
     "output_type": "stream",
     "text": [
      "C:\\Users\\VISHAL JHA\\anaconda3\\lib\\site-packages\\seaborn\\_decorators.py:36: FutureWarning: Pass the following variable as a keyword arg: x. From version 0.12, the only valid positional argument will be `data`, and passing other arguments without an explicit keyword will result in an error or misinterpretation.\n",
      "  warnings.warn(\n"
     ]
    },
    {
     "data": {
      "image/png": "[encoded data removed]",
      "text/plain": [
       "<Figure size 864x288 with 1 Axes>"
      ]
     },
     "metadata": {
      "needs_background": "light"
     },
     "output_type": "display_data"
    }
   ],
   "source": [
    "plt.figure(figsize = (12,4))\n",
    "sns.countplot(ipl.toss_decision[ipl.toss_winner == ipl.winner])\n",
    "plt.show()"
   ]
  },
  {
   "cell_type": "markdown",
   "id": "b2cd0d1f",
   "metadata": {},
   "source": [
    "# Dismissial_kind analysis of \"AB de Villiers\""
   ]
  },
  {
   "cell_type": "code",
   "execution_count": 46,
   "id": "b9dad844",
   "metadata": {},
   "outputs": [
    {
     "data": {
      "text/html": [
       "<div>\n",
       "<style scoped>\n",
       "    .dataframe tbody tr th:only-of-type {\n",
       "        vertical-align: middle;\n",
       "    }\n",
       "\n",
       "    .dataframe tbody tr th {\n",
       "        vertical-align: top;\n",
       "    }\n",
       "\n",
       "    .dataframe thead th {\n",
       "        text-align: right;\n",
       "    }\n",
       "</style>\n",
       "<table border=\"1\" class=\"dataframe\">\n",
       "  <thead>\n",
       "    <tr style=\"text-align: right;\">\n",
       "      <th></th>\n",
       "      <th>id</th>\n",
       "      <th>inning</th>\n",
       "      <th>over</th>\n",
       "      <th>ball</th>\n",
       "      <th>batsman</th>\n",
       "      <th>non_striker</th>\n",
       "      <th>bowler</th>\n",
       "      <th>batsman_runs</th>\n",
       "      <th>extra_runs</th>\n",
       "      <th>total_runs</th>\n",
       "      <th>non_boundary</th>\n",
       "      <th>is_wicket</th>\n",
       "      <th>dismissal_kind</th>\n",
       "      <th>player_dismissed</th>\n",
       "      <th>fielder</th>\n",
       "      <th>extras_type</th>\n",
       "      <th>batting_team</th>\n",
       "      <th>bowling_team</th>\n",
       "    </tr>\n",
       "  </thead>\n",
       "  <tbody>\n",
       "    <tr>\n",
       "      <th>4547</th>\n",
       "      <td>336001</td>\n",
       "      <td>2</td>\n",
       "      <td>12</td>\n",
       "      <td>3</td>\n",
       "      <td>AB de Villiers</td>\n",
       "      <td>G Gambhir</td>\n",
       "      <td>M Muralitharan</td>\n",
       "      <td>2</td>\n",
       "      <td>0</td>\n",
       "      <td>2</td>\n",
       "      <td>0</td>\n",
       "      <td>0</td>\n",
       "      <td>NaN</td>\n",
       "      <td>NaN</td>\n",
       "      <td>NaN</td>\n",
       "      <td>NaN</td>\n",
       "      <td>Delhi Daredevils</td>\n",
       "      <td>Chennai Super Kings</td>\n",
       "    </tr>\n",
       "    <tr>\n",
       "      <th>4548</th>\n",
       "      <td>336001</td>\n",
       "      <td>2</td>\n",
       "      <td>12</td>\n",
       "      <td>4</td>\n",
       "      <td>AB de Villiers</td>\n",
       "      <td>G Gambhir</td>\n",
       "      <td>M Muralitharan</td>\n",
       "      <td>0</td>\n",
       "      <td>0</td>\n",
       "      <td>0</td>\n",
       "      <td>0</td>\n",
       "      <td>0</td>\n",
       "      <td>NaN</td>\n",
       "      <td>NaN</td>\n",
       "      <td>NaN</td>\n",
       "      <td>NaN</td>\n",
       "      <td>Delhi Daredevils</td>\n",
       "      <td>Chennai Super Kings</td>\n",
       "    </tr>\n",
       "  </tbody>\n",
       "</table>\n",
       "</div>"
      ],
      "text/plain": [
       "          id  inning  over  ball         batsman non_striker          bowler  \\\n",
       "4547  336001       2    12     3  AB de Villiers   G Gambhir  M Muralitharan   \n",
       "4548  336001       2    12     4  AB de Villiers   G Gambhir  M Muralitharan   \n",
       "\n",
       "      batsman_runs  extra_runs  total_runs  non_boundary  is_wicket  \\\n",
       "4547             2           0           2             0          0   \n",
       "4548             0           0           0             0          0   \n",
       "\n",
       "     dismissal_kind player_dismissed fielder extras_type      batting_team  \\\n",
       "4547            NaN              NaN     NaN         NaN  Delhi Daredevils   \n",
       "4548            NaN              NaN     NaN         NaN  Delhi Daredevils   \n",
       "\n",
       "             bowling_team  \n",
       "4547  Chennai Super Kings  \n",
       "4548  Chennai Super Kings  "
      ]
     },
     "execution_count": 46,
     "metadata": {},
     "output_type": "execute_result"
    }
   ],
   "source": [
    "player = (ipl2['batsman']=='AB de Villiers')\n",
    "df_abd = ipl2[player]\n",
    "df_abd.head(2)"
   ]
  },
  {
   "cell_type": "code",
   "execution_count": 47,
   "id": "29d5b15a",
   "metadata": {},
   "outputs": [
    {
     "data": {
      "image/png": "[encoded data removed]",
      "text/plain": [
       "<Figure size 432x288 with 1 Axes>"
      ]
     },
     "metadata": {},
     "output_type": "display_data"
    }
   ],
   "source": [
    "df_abd[\"dismissal_kind\"].value_counts().plot.pie(autopct='%1.1f%%' ,shadow=True , rotatelabels=True)\n",
    "plt.title(\"dismissal_kind\",fontweight = \"bold\" ,fontsize=15)\n",
    "plt.show()"
   ]
  },
  {
   "cell_type": "markdown",
   "id": "be568deb",
   "metadata": {},
   "source": [
    "# Runs scored by abd from 1's , 2's , 3's, 4's, 6's"
   ]
  },
  {
   "cell_type": "code",
   "execution_count": 48,
   "id": "05a81f74",
   "metadata": {},
   "outputs": [],
   "source": [
    "def count(df_abd,runs):\n",
    "    return len(df_abd[df_abd['batsman_runs']==runs])*runs"
   ]
  },
  {
   "cell_type": "code",
   "execution_count": 49,
   "id": "6ae69644",
   "metadata": {},
   "outputs": [
    {
     "name": "stdout",
     "output_type": "stream",
     "text": [
      "Runs scored from 1's : 1333\n",
      "Runs scored from 2's : 498\n",
      "Runs scored from 3's : 48\n",
      "Runs scored from 4's : 1560\n",
      "Runs scored from 6's : 1410\n"
     ]
    }
   ],
   "source": [
    "print(\"Runs scored from 1's :\",count(df_abd,1))\n",
    "print(\"Runs scored from 2's :\",count(df_abd,2))\n",
    "print(\"Runs scored from 3's :\",count(df_abd,3))\n",
    "print(\"Runs scored from 4's :\",count(df_abd,4))\n",
    "print(\"Runs scored from 6's :\",count(df_abd,6))"
   ]
  },
  {
   "cell_type": "code",
   "execution_count": 50,
   "id": "187e550c",
   "metadata": {},
   "outputs": [
    {
     "data": {
      "text/html": [
       "<div>\n",
       "<style scoped>\n",
       "    .dataframe tbody tr th:only-of-type {\n",
       "        vertical-align: middle;\n",
       "    }\n",
       "\n",
       "    .dataframe tbody tr th {\n",
       "        vertical-align: top;\n",
       "    }\n",
       "\n",
       "    .dataframe thead th {\n",
       "        text-align: right;\n",
       "    }\n",
       "</style>\n",
       "<table border=\"1\" class=\"dataframe\">\n",
       "  <thead>\n",
       "    <tr style=\"text-align: right;\">\n",
       "      <th></th>\n",
       "      <th>id</th>\n",
       "      <th>city</th>\n",
       "      <th>date</th>\n",
       "      <th>player_of_match</th>\n",
       "      <th>venue</th>\n",
       "      <th>neutral_venue</th>\n",
       "      <th>team1</th>\n",
       "      <th>team2</th>\n",
       "      <th>toss_winner</th>\n",
       "      <th>toss_decision</th>\n",
       "      <th>winner</th>\n",
       "      <th>result</th>\n",
       "      <th>result_margin</th>\n",
       "      <th>eliminator</th>\n",
       "      <th>method</th>\n",
       "      <th>umpire1</th>\n",
       "      <th>umpire2</th>\n",
       "      <th>year</th>\n",
       "    </tr>\n",
       "  </thead>\n",
       "  <tbody>\n",
       "    <tr>\n",
       "      <th>620</th>\n",
       "      <td>1082635</td>\n",
       "      <td>Delhi</td>\n",
       "      <td>06-05-2017</td>\n",
       "      <td>LMP Simmons</td>\n",
       "      <td>Feroz Shah Kotla</td>\n",
       "      <td>0</td>\n",
       "      <td>Delhi Daredevils</td>\n",
       "      <td>Mumbai Indians</td>\n",
       "      <td>Delhi Daredevils</td>\n",
       "      <td>field</td>\n",
       "      <td>Mumbai Indians</td>\n",
       "      <td>runs</td>\n",
       "      <td>146.0</td>\n",
       "      <td>N</td>\n",
       "      <td>NaN</td>\n",
       "      <td>Nitin Menon</td>\n",
       "      <td>CK Nandan</td>\n",
       "      <td>2017</td>\n",
       "    </tr>\n",
       "  </tbody>\n",
       "</table>\n",
       "</div>"
      ],
      "text/plain": [
       "          id   city        date player_of_match             venue  \\\n",
       "620  1082635  Delhi  06-05-2017     LMP Simmons  Feroz Shah Kotla   \n",
       "\n",
       "     neutral_venue             team1           team2       toss_winner  \\\n",
       "620              0  Delhi Daredevils  Mumbai Indians  Delhi Daredevils   \n",
       "\n",
       "    toss_decision          winner result  result_margin eliminator method  \\\n",
       "620         field  Mumbai Indians   runs          146.0          N    NaN   \n",
       "\n",
       "         umpire1    umpire2  year  \n",
       "620  Nitin Menon  CK Nandan  2017  "
      ]
     },
     "execution_count": 50,
     "metadata": {},
     "output_type": "execute_result"
    }
   ],
   "source": [
    "ipl[ipl[\"result_margin\"]==ipl[\"result_margin\"].max()]"
   ]
  },
  {
   "cell_type": "markdown",
   "id": "57795ac0",
   "metadata": {},
   "source": [
    "# Top 10 run scorer in ipl "
   ]
  },
  {
   "cell_type": "code",
   "execution_count": 51,
   "id": "0b3d7b68",
   "metadata": {},
   "outputs": [
    {
     "data": {
      "text/html": [
       "<div>\n",
       "<style scoped>\n",
       "    .dataframe tbody tr th:only-of-type {\n",
       "        vertical-align: middle;\n",
       "    }\n",
       "\n",
       "    .dataframe tbody tr th {\n",
       "        vertical-align: top;\n",
       "    }\n",
       "\n",
       "    .dataframe thead th {\n",
       "        text-align: right;\n",
       "    }\n",
       "</style>\n",
       "<table border=\"1\" class=\"dataframe\">\n",
       "  <thead>\n",
       "    <tr style=\"text-align: right;\">\n",
       "      <th></th>\n",
       "      <th>Batsman</th>\n",
       "      <th>Runs</th>\n",
       "    </tr>\n",
       "  </thead>\n",
       "  <tbody>\n",
       "    <tr>\n",
       "      <th>0</th>\n",
       "      <td>V Kohli</td>\n",
       "      <td>5878</td>\n",
       "    </tr>\n",
       "    <tr>\n",
       "      <th>1</th>\n",
       "      <td>SK Raina</td>\n",
       "      <td>5368</td>\n",
       "    </tr>\n",
       "    <tr>\n",
       "      <th>2</th>\n",
       "      <td>DA Warner</td>\n",
       "      <td>5254</td>\n",
       "    </tr>\n",
       "    <tr>\n",
       "      <th>3</th>\n",
       "      <td>RG Sharma</td>\n",
       "      <td>5230</td>\n",
       "    </tr>\n",
       "    <tr>\n",
       "      <th>4</th>\n",
       "      <td>S Dhawan</td>\n",
       "      <td>5197</td>\n",
       "    </tr>\n",
       "    <tr>\n",
       "      <th>5</th>\n",
       "      <td>AB de Villiers</td>\n",
       "      <td>4849</td>\n",
       "    </tr>\n",
       "    <tr>\n",
       "      <th>6</th>\n",
       "      <td>CH Gayle</td>\n",
       "      <td>4772</td>\n",
       "    </tr>\n",
       "    <tr>\n",
       "      <th>7</th>\n",
       "      <td>MS Dhoni</td>\n",
       "      <td>4632</td>\n",
       "    </tr>\n",
       "    <tr>\n",
       "      <th>8</th>\n",
       "      <td>RV Uthappa</td>\n",
       "      <td>4607</td>\n",
       "    </tr>\n",
       "    <tr>\n",
       "      <th>9</th>\n",
       "      <td>G Gambhir</td>\n",
       "      <td>4217</td>\n",
       "    </tr>\n",
       "  </tbody>\n",
       "</table>\n",
       "</div>"
      ],
      "text/plain": [
       "          Batsman  Runs\n",
       "0         V Kohli  5878\n",
       "1        SK Raina  5368\n",
       "2       DA Warner  5254\n",
       "3       RG Sharma  5230\n",
       "4        S Dhawan  5197\n",
       "5  AB de Villiers  4849\n",
       "6        CH Gayle  4772\n",
       "7        MS Dhoni  4632\n",
       "8      RV Uthappa  4607\n",
       "9       G Gambhir  4217"
      ]
     },
     "execution_count": 51,
     "metadata": {},
     "output_type": "execute_result"
    }
   ],
   "source": [
    "runs = ipl2.groupby([\"batsman\"])[\"batsman_runs\"].sum().reset_index()\n",
    "runs.columns = [\"Batsman\", \"Runs\"]\n",
    "y = runs.sort_values(by= \"Runs\" ,ascending = False).head(10).reset_index().drop(\"index\" ,axis =1 )\n",
    "y"
   ]
  },
  {
   "cell_type": "code",
   "execution_count": 52,
   "id": "6cb02b94",
   "metadata": {},
   "outputs": [
    {
     "data": {
      "image/png": "[encoded data removed]",
      "text/plain": [
       "<Figure size 432x288 with 1 Axes>"
      ]
     },
     "metadata": {
      "needs_background": "light"
     },
     "output_type": "display_data"
    }
   ],
   "source": [
    "x = plt.axes()\n",
    "ax.set(facecolor = \"cyan\")\n",
    "sns.barplot(x = y[\"Batsman\"] ,y=y[\"Runs\"] , palette = \"rocket\" , saturation = 1)\n",
    "plt.xticks(rotation = 90 ,fontsize = 15)\n",
    "plt.yticks(fontsize = 10)\n",
    "plt.xlabel(\"\\n player\" ,fontsize =15)\n",
    "plt.ylabel(\"Total Runs\" ,fontsize =15)\n",
    "plt.title(\"Top 10 run scorers in IPL\" ,fontsize =15)\n",
    "plt.show()"
   ]
  },
  {
   "cell_type": "code",
   "execution_count": null,
   "id": "1f44abd4",
   "metadata": {},
   "outputs": [],
   "source": []
  }
 ],
 "metadata": {
  "kernelspec": {
   "display_name": "Python 3 (ipykernel)",
   "language": "python",
   "name": "python3"
  },
  "language_info": {
   "codemirror_mode": {
    "name": "ipython",
    "version": 3
   },
   "file_extension": ".py",
   "mimetype": "text/x-python",
   "name": "python",
   "nbconvert_exporter": "python",
   "pygments_lexer": "ipython3",
   "version": "3.9.12"
  }
 },
 "nbformat": 4,
 "nbformat_minor": 5
}
